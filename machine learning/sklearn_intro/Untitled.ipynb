{
 "cells": [
  {
   "cell_type": "code",
   "execution_count": 1,
   "metadata": {},
   "outputs": [],
   "source": [
    "from enum import Enum"
   ]
  },
  {
   "cell_type": "code",
   "execution_count": 9,
   "metadata": {},
   "outputs": [
    {
     "name": "stdout",
     "output_type": "stream",
     "text": [
      "Color.red\n",
      "Color.red\n",
      "Color.red\n",
      "[<Color.red: 1>, <Color.green: 2>, <Color.blue: 3>]\n"
     ]
    }
   ],
   "source": [
    "class Color(Enum):\n",
    "    red = 1\n",
    "    green = 2\n",
    "    blue = 3\n",
    "    \n",
    "print(Color.red)\n",
    "print(Color(1))\n",
    "print(Color['red'])\n",
    "\n",
    "lEnum = [c for c in Color]\n",
    "print(lEnum)"
   ]
  },
  {
   "cell_type": "code",
   "execution_count": 12,
   "metadata": {},
   "outputs": [
    {
     "name": "stdout",
     "output_type": "stream",
     "text": [
      "List of keyword in python : \n",
      "['False', 'None', 'True', 'and', 'as', 'assert', 'break', 'class', 'continue', 'def', 'del', 'elif', 'else', 'except', 'finally', 'for', 'from', 'global', 'if', 'import', 'in', 'is', 'lambda', 'nonlocal', 'not', 'or', 'pass', 'raise', 'return', 'try', 'while', 'with', 'yield']\n"
     ]
    }
   ],
   "source": [
    "import keyword\n",
    "print(\"List of keyword in python : \")\n",
    "print(keyword.kwlist)"
   ]
  },
  {
   "cell_type": "code",
   "execution_count": 14,
   "metadata": {},
   "outputs": [
    {
     "name": "stdout",
     "output_type": "stream",
     "text": [
      "Multiple assignment in single line\n",
      "1 2 3\n"
     ]
    }
   ],
   "source": [
    "a, b, c = 1, 2, 3\n",
    "print(\"Multiple assignment in single line\")\n",
    "print(a, b, c)"
   ]
  },
  {
   "cell_type": "code",
   "execution_count": 16,
   "metadata": {},
   "outputs": [
    {
     "name": "stdout",
     "output_type": "stream",
     "text": [
      "1 2 4\n"
     ]
    }
   ],
   "source": [
    "a, b, _, _ = 1, 2, 3, 4\n",
    "print(a, b, _)"
   ]
  },
  {
   "cell_type": "code",
   "execution_count": 18,
   "metadata": {},
   "outputs": [
    {
     "name": "stdout",
     "output_type": "stream",
     "text": [
      "Before : \n",
      "[7, 8, 9] [7, 8, 9]\n",
      "After : \n",
      "[7, 10] [7, 8, 9]\n"
     ]
    }
   ],
   "source": [
    "x = y = [7, 8, 9]\n",
    "print(\"Before : \")\n",
    "print(x, y)\n",
    "x = [7, 10]\n",
    "print(\"After : \")\n",
    "print(x, y)"
   ]
  },
  {
   "cell_type": "code",
   "execution_count": 19,
   "metadata": {},
   "outputs": [
    {
     "name": "stdout",
     "output_type": "stream",
     "text": [
      "Before : \n",
      "[7, 8, 9] [7, 8, 9]\n",
      "After : \n",
      "[7, 20, 9] [7, 20, 9]\n"
     ]
    }
   ],
   "source": [
    "x = y = [7, 8, 9]\n",
    "print(\"Before : \")\n",
    "print(x, y)\n",
    "print(\"After : \")\n",
    "x [1] = 20\n",
    "print(x, y)"
   ]
  }
 ],
 "metadata": {
  "kernelspec": {
   "display_name": "Python 3",
   "language": "python",
   "name": "python3"
  },
  "language_info": {
   "codemirror_mode": {
    "name": "ipython",
    "version": 3
   },
   "file_extension": ".py",
   "mimetype": "text/x-python",
   "name": "python",
   "nbconvert_exporter": "python",
   "pygments_lexer": "ipython3",
   "version": "3.5.4"
  }
 },
 "nbformat": 4,
 "nbformat_minor": 2
}
